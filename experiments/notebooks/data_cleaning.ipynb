{
 "cells": [
  {
   "cell_type": "markdown",
   "id": "7876a02f",
   "metadata": {},
   "source": [
    "One of my mentees did something really cool\n",
    "https://colab.research.google.com/drive/12MTYkd6eZFbJ7tcuUxhNjStnwLdFunpL#scrollTo=6c219485"
   ]
  },
  {
   "cell_type": "code",
   "execution_count": null,
   "id": "921f3002",
   "metadata": {},
   "outputs": [],
   "source": []
  },
  {
   "cell_type": "code",
   "execution_count": null,
   "id": "1a343559",
   "metadata": {},
   "outputs": [],
   "source": [
    "#Standardize column names: lowercase, snake_case, strip spaces\n",
    "\n",
    "#Borrowed from - Phoebe\n",
    "\n",
    "\n",
    "#cohort3_DS_clean = cohort3_DS.copy()\n",
    "#cohort3_DS_clean.columns = (\n",
    "   # cohort3_DS_clean.columns\n",
    "  #  .str.strip()\n",
    "  #  .str.lower()\n",
    "   # .str.replace(\" \", \"_\")\n",
    "    #.str.replace(\"?\", \"\", regex=False)\n",
    "#)\n",
    "#cohort3_DS_clean.head()"
   ]
  }
 ],
 "metadata": {
  "language_info": {
   "name": "python"
  }
 },
 "nbformat": 4,
 "nbformat_minor": 5
}
