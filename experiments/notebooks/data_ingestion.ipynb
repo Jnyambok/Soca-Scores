{
 "cells": [
  {
   "cell_type": "markdown",
   "id": "282c8687",
   "metadata": {},
   "source": [
    "**DATA INGESTION**"
   ]
  },
  {
   "cell_type": "markdown",
   "id": "74556d37",
   "metadata": {},
   "source": [
    "1. Go through the url workbook\n",
    "2. Ascertain that the number of rows and columns are as expected\n",
    "3. Implement a customer logger\n",
    "4. Load the pd.concat dataset back into the environment\n"
   ]
  },
  {
   "cell_type": "code",
   "execution_count": null,
   "id": "35dc584c",
   "metadata": {
    "vscode": {
     "languageId": "plaintext"
    }
   },
   "outputs": [],
   "source": []
  }
 ],
 "metadata": {
  "language_info": {
   "name": "python"
  }
 },
 "nbformat": 4,
 "nbformat_minor": 5
}
